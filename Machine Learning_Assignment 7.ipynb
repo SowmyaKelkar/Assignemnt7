{
 "cells": [
  {
   "cell_type": "markdown",
   "metadata": {},
   "source": [
    "# ASSIGNMENT 7.2"
   ]
  },
  {
   "cell_type": "markdown",
   "metadata": {},
   "source": [
    "1) What are the three stages to build hypothese or model in machine learning? \n"
   ]
  },
  {
   "cell_type": "markdown",
   "metadata": {},
   "source": [
    "Answer : The three main stages of building a model in machine learning are:\n",
    "a) Model Building \n",
    "b) Model Testing \n",
    "c) Applying the Model "
   ]
  },
  {
   "cell_type": "markdown",
   "metadata": {},
   "source": [
    "2) What is the standard approach to supervised learning?"
   ]
  },
  {
   "cell_type": "markdown",
   "metadata": {},
   "source": [
    "Answer : Supervised learing is used to predict future values by taking the historical data as as input. The standard approach\n",
    "to supervised learing is dividing the data set into train set and test set."
   ]
  },
  {
   "cell_type": "markdown",
   "metadata": {},
   "source": [
    "3) What is Training set and Test set?"
   ]
  },
  {
   "cell_type": "markdown",
   "metadata": {},
   "source": [
    "Answer :  The data in supervised learing is divide into training set and test set. \n",
    "The trainng set is used to predict the future values of the data set provided. It is mainley used to train the model.\n",
    "The test set is used to test the accuracy of the model in predicting the future values compared to the training set. Some adjustments are made if the values predicted are unreasonable. "
   ]
  },
  {
   "cell_type": "markdown",
   "metadata": {},
   "source": [
    "4) What is the general principle of an ensemble method and what is bagging and\n",
    "boosting in ensemble method?"
   ]
  },
  {
   "cell_type": "markdown",
   "metadata": {},
   "source": [
    "This topic will be covered in the 8th session. The answer will be updated once the session is completed."
   ]
  },
  {
   "cell_type": "markdown",
   "metadata": {},
   "source": [
    "5) How can you avoid overfitting ?"
   ]
  },
  {
   "cell_type": "markdown",
   "metadata": {},
   "source": [
    "Overfitting is when the accuracy of the test set is high when compared to train set and reduces when the data values of the test set is changed or manupilated. \n",
    "Overfitting happens when a model learns the detail and noise in the training data to the extent that it\n",
    "negatively impacts the performance of the model on new data.\n",
    "Overfitting can be avoided by using huge amount of data and Cross validation method, Where the train set and test set keeps on interchanging."
   ]
  },
  {
   "cell_type": "code",
   "execution_count": null,
   "metadata": {},
   "outputs": [],
   "source": []
  }
 ],
 "metadata": {
  "kernelspec": {
   "display_name": "Python 3",
   "language": "python",
   "name": "python3"
  },
  "language_info": {
   "codemirror_mode": {
    "name": "ipython",
    "version": 3
   },
   "file_extension": ".py",
   "mimetype": "text/x-python",
   "name": "python",
   "nbconvert_exporter": "python",
   "pygments_lexer": "ipython3",
   "version": "3.6.4"
  }
 },
 "nbformat": 4,
 "nbformat_minor": 2
}
